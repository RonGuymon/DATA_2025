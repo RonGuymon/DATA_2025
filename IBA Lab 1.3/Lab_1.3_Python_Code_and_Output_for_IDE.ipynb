{
 "cells": [
  {
   "cell_type": "markdown",
   "id": "c74b6a92-fdd7-4ac1-9559-31466cce816c",
   "metadata": {},
   "source": [
    "# Lab 1.3 - Assessing Product (SKU) Profitability"
   ]
  },
  {
   "attachments": {},
   "cell_type": "markdown",
   "id": "9e20f655-a7ec-4ac7-b8b7-5f570c201623",
   "metadata": {},
   "source": [
    "## Analysis Task 1  \n",
    "\n",
    "Load the pandas and numpy modules and read in the data."
   ]
  },
  {
   "cell_type": "code",
   "execution_count": null,
   "id": "f2380b50-297c-44ad-89f3-052eb1e26d0d",
   "metadata": {},
   "outputs": [],
   "source": [
    "import pandas as pd\n",
    "import numpy as np"
   ]
  },
  {
   "cell_type": "code",
   "execution_count": null,
   "id": "c2907852-2748-454f-b2b0-1e48bfbf2abf",
   "metadata": {},
   "outputs": [],
   "source": [
    "df = pd.read_excel('Lab_1.3_Python_Data.xlsx')\n",
    "df.head()"
   ]
  },
  {
   "cell_type": "markdown",
   "id": "eb3151e1-7051-4e53-af98-2146a6af3441",
   "metadata": {},
   "source": [
    "## Analysis Task 2\n",
    "\n",
    "Create new columns for the gross margin and gross margin percentage. Display evidence that the new columns exist."
   ]
  },
  {
   "cell_type": "code",
   "execution_count": null,
   "id": "90313cb0-f70b-426e-907f-479b327abd68",
   "metadata": {},
   "outputs": [],
   "source": [
    "pd.options.display.precision = 2\n",
    "df['Gross Margin'] = df['Sales Price per Pound']-df['Cost per Pound']\n",
    "df['Gross Margin Percent'] = df['Gross Margin']/df['Sales Price per Pound']\n",
    "df.head()"
   ]
  },
  {
   "attachments": {},
   "cell_type": "markdown",
   "id": "e27da627-4c4f-4c83-8934-965cfd1823b4",
   "metadata": {},
   "source": [
    "## Analysis Task 3  \n",
    "\n",
    "Create a list of SKUs in descending order of gross margin percentage, and display evidence that the sorting worked."
   ]
  },
  {
   "cell_type": "code",
   "execution_count": null,
   "id": "7ad60fe1-6045-4e4b-b66a-1ad7244676db",
   "metadata": {},
   "outputs": [],
   "source": [
    "df = df.sort_values('Gross Margin Percent', ascending = False)\n",
    "df"
   ]
  },
  {
   "cell_type": "markdown",
   "id": "2c55e780-8f4e-43e1-b369-f317c5bd43ec",
   "metadata": {},
   "source": [
    "## Analysis Task 4 \n",
    "\n",
    "Create a histogram of the gross margin percentages."
   ]
  },
  {
   "cell_type": "code",
   "execution_count": null,
   "id": "15a3f10f-4aa1-4f23-994b-7e6c25eaaa51",
   "metadata": {},
   "outputs": [],
   "source": [
    "df['Gross Margin Percent'].plot(kind='hist',\n",
    "                               title = 'Histogram of Gross Margin Percent');"
   ]
  },
  {
   "cell_type": "markdown",
   "id": "66d1cf3f-b86c-4c52-b8b4-97c693175e81",
   "metadata": {},
   "source": [
    "## Analysis Task 5\n",
    "\n",
    "Adjust the histogram of the gross margin percentages so that it uses bins of size .025 and a range of .325 to .425."
   ]
  },
  {
   "cell_type": "code",
   "execution_count": null,
   "id": "67e3b7b0-793c-46f6-bd2f-f6ab1e5cf6e5",
   "metadata": {},
   "outputs": [],
   "source": [
    "myBins = np.arange(.325, .45, .025)"
   ]
  },
  {
   "cell_type": "code",
   "execution_count": null,
   "id": "7ba71a06-08d9-4855-b711-bdf34982ef2e",
   "metadata": {},
   "outputs": [],
   "source": [
    "df['Gross Margin Percent'].plot(kind='hist',\n",
    "                               title = 'Histogram of Gross Margin Percent',\n",
    "                               bins = myBins);"
   ]
  },
  {
   "cell_type": "markdown",
   "id": "713d8f9c-7d64-4b5c-b492-80bcce91b5b7",
   "metadata": {},
   "source": [
    "## Analysis Task 6\n",
    "\n",
    "Display a list of SKUs in the highest bin."
   ]
  },
  {
   "cell_type": "code",
   "execution_count": null,
   "id": "243c7a70-8509-4ced-a642-0f9bed6450e4",
   "metadata": {},
   "outputs": [],
   "source": [
    "df[df['Gross Margin Percent'] >= .4]"
   ]
  }
 ],
 "metadata": {
  "kernelspec": {
   "display_name": "Python 3 (ipykernel)",
   "language": "python",
   "name": "python3"
  },
  "language_info": {
   "codemirror_mode": {
    "name": "ipython",
    "version": 3
   },
   "file_extension": ".py",
   "mimetype": "text/x-python",
   "name": "python",
   "nbconvert_exporter": "python",
   "pygments_lexer": "ipython3",
   "version": "3.12.0"
  }
 },
 "nbformat": 4,
 "nbformat_minor": 5
}
