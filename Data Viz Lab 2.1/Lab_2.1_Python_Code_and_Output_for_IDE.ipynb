{
 "cells": [
  {
   "cell_type": "markdown",
   "id": "f7881e1d-dde7-4354-8e27-43c37c6fa13b",
   "metadata": {},
   "source": [
    "# Lab 2.1 Learning How to Clean and Preprocess Data"
   ]
  },
  {
   "cell_type": "markdown",
   "id": "4cac3736-97a0-4440-a742-96121fddf2bc",
   "metadata": {},
   "source": [
    "## 1. Import pandas"
   ]
  },
  {
   "cell_type": "code",
   "execution_count": null,
   "id": "b44cc895-2ae9-4e43-9724-2c492990a4e1",
   "metadata": {},
   "outputs": [],
   "source": [
    "import pandas as pd"
   ]
  },
  {
   "cell_type": "markdown",
   "id": "adf2ea9d-5b8b-47f6-83c2-35f3360ac155",
   "metadata": {},
   "source": [
    "## 2. Load the Lab 2.1 Data.xlsx file"
   ]
  },
  {
   "cell_type": "code",
   "execution_count": null,
   "id": "4b48609c-0a62-4a37-822d-ee12b44ab38c",
   "metadata": {},
   "outputs": [],
   "source": [
    "df = pd.read_excel('Lab_2.1_Data.xlsx')\n",
    "df.head()"
   ]
  },
  {
   "cell_type": "markdown",
   "id": "4f7a00c2-535c-44fe-a0dc-bd382450ad18",
   "metadata": {},
   "source": [
    "## 3. Clean up columns \n",
    "\n",
    "* Rename the __Series-Id__ column to __Year__\n",
    "* Rename the __Year__ column to __SeriesId__\n",
    "* Rename the __The Value__ column to __Value__\n",
    "* Rename the __METRIC__ column to __Metric__\n",
    "* Remove the columns: __Column1__, __SeriesId__, and __URL__"
   ]
  },
  {
   "cell_type": "code",
   "execution_count": null,
   "id": "1a4475f8-62be-459f-a521-6adbc611e509",
   "metadata": {},
   "outputs": [],
   "source": [
    "df = (df\n",
    "      .loc[:,'Series-Id':'METRIC']\n",
    "     .rename(columns={'Series-Id': 'Year',\n",
    "                      'Year': 'SeriesId',\n",
    "                      'period': 'Period',\n",
    "                     'METRIC': 'Metric',\n",
    "                     'The Value': 'Value'})\n",
    "      .drop(columns='SeriesId')\n",
    "     )\n",
    "df.head()\n"
   ]
  },
  {
   "cell_type": "markdown",
   "id": "a246e373-00aa-4e8a-912f-6acf5799f129",
   "metadata": {},
   "source": [
    "## 4. Convert the Value column to a numeric data type"
   ]
  },
  {
   "cell_type": "code",
   "execution_count": null,
   "id": "9132a90c-03a8-4217-9d18-c87cf5780294",
   "metadata": {},
   "outputs": [],
   "source": [
    "df.Value = pd.to_numeric(df.Value.str.strip('\"'))\n",
    "df.head()"
   ]
  },
  {
   "cell_type": "markdown",
   "id": "291b314c-cd14-4ece-98ae-016c1beb2cfd",
   "metadata": {},
   "source": [
    "## 5. Remove duplicate rows"
   ]
  },
  {
   "cell_type": "code",
   "execution_count": null,
   "id": "2be7ae3d-32f5-4c00-b882-845662c2cbe8",
   "metadata": {},
   "outputs": [],
   "source": [
    "df = df.drop_duplicates()"
   ]
  },
  {
   "cell_type": "markdown",
   "id": "4cddad4d-6816-4f41-9d15-10a2254afd6e",
   "metadata": {},
   "source": [
    "## 6. Create a new column, Month\n",
    "\n",
    "The new __Month__ column should represnt the values on the first day of the corresponding month."
   ]
  },
  {
   "cell_type": "code",
   "execution_count": null,
   "id": "11eeacc3-0ab7-4ffe-8b8e-2cc5888b54f9",
   "metadata": {},
   "outputs": [],
   "source": [
    "df['Month'] = df.Year.astype(str) + df.Period.str.replace('M', '-') + '-01'\n",
    "df.Month = pd.to_datetime(df.Month)\n",
    "df.head()"
   ]
  },
  {
   "cell_type": "markdown",
   "id": "67de52be-6d79-4937-a690-95dd220b8a15",
   "metadata": {},
   "source": [
    "## 7. Keep only Month, Metric, and Value"
   ]
  },
  {
   "cell_type": "code",
   "execution_count": null,
   "id": "ed1248c4-09e8-4455-9e39-a102864fa0bb",
   "metadata": {},
   "outputs": [],
   "source": [
    "df = df[['Month', 'Metric', 'Value']]\n",
    "df.head()"
   ]
  },
  {
   "cell_type": "markdown",
   "id": "1a767e49-d48b-408f-99d0-7d24ab973109",
   "metadata": {},
   "source": [
    "## 8. Pivot the data to a wide format  \n",
    "\n",
    "Specificlaly, create a column for each of the values in the __Metric__ column, and fill in the cells with the values from the __Value__ column."
   ]
  },
  {
   "cell_type": "code",
   "execution_count": null,
   "id": "7e42e6c5-27e5-4c77-a684-46d45db12ba6",
   "metadata": {},
   "outputs": [],
   "source": [
    "dfw = df.pivot(index='Month', columns='Metric', values='Value')\n",
    "dfw.head()"
   ]
  },
  {
   "cell_type": "markdown",
   "id": "ad1a8bfc-d0b3-448c-b272-3d957cce0c0f",
   "metadata": {},
   "source": [
    "## 9. Create a multiline plot"
   ]
  },
  {
   "cell_type": "code",
   "execution_count": null,
   "id": "e4192f29-0b1b-4e36-930d-9a7cc69c015a",
   "metadata": {},
   "outputs": [],
   "source": [
    "dfw.plot.line(title = 'Inflation for Four Products');"
   ]
  },
  {
   "cell_type": "markdown",
   "id": "d6603f0c-4d8b-4a3c-9bd6-61283a7268fc",
   "metadata": {},
   "source": [
    "## 10. Your Turn\n",
    "\n",
    "* Create a single histogram of all the Chained CPI values.\n",
    "* Add a meaningful title to the histogram."
   ]
  }
 ],
 "metadata": {
  "kernelspec": {
   "display_name": "Python 3 (ipykernel)",
   "language": "python",
   "name": "python3"
  },
  "language_info": {
   "codemirror_mode": {
    "name": "ipython",
    "version": 3
   },
   "file_extension": ".py",
   "mimetype": "text/x-python",
   "name": "python",
   "nbconvert_exporter": "python",
   "pygments_lexer": "ipython3",
   "version": "3.12.0"
  }
 },
 "nbformat": 4,
 "nbformat_minor": 5
}
