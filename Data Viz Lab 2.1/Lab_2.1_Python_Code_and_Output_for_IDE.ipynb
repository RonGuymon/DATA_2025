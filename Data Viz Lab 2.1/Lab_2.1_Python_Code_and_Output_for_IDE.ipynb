{
 "cells": [
  {
   "cell_type": "markdown",
   "id": "f7881e1d-dde7-4354-8e27-43c37c6fa13b",
   "metadata": {},
   "source": [
    "# Lab 2.1 Learning How to Clean and Preprocess Data"
   ]
  },
  {
   "cell_type": "markdown",
   "id": "4cac3736-97a0-4440-a742-96121fddf2bc",
   "metadata": {},
   "source": [
    "## 1. Import pandas"
   ]
  },
  {
   "cell_type": "code",
   "execution_count": 1,
   "id": "b44cc895-2ae9-4e43-9724-2c492990a4e1",
   "metadata": {},
   "outputs": [],
   "source": [
    "import pandas as pd"
   ]
  },
  {
   "cell_type": "markdown",
   "id": "adf2ea9d-5b8b-47f6-83c2-35f3360ac155",
   "metadata": {},
   "source": [
    "## 2. Load the Lab 2.1 Data.xlsx file"
   ]
  },
  {
   "cell_type": "code",
   "execution_count": 2,
   "id": "4b48609c-0a62-4a37-822d-ee12b44ab38c",
   "metadata": {},
   "outputs": [
    {
     "data": {
      "text/html": [
       "<div>\n",
       "<style scoped>\n",
       "    .dataframe tbody tr th:only-of-type {\n",
       "        vertical-align: middle;\n",
       "    }\n",
       "\n",
       "    .dataframe tbody tr th {\n",
       "        vertical-align: top;\n",
       "    }\n",
       "\n",
       "    .dataframe thead th {\n",
       "        text-align: right;\n",
       "    }\n",
       "</style>\n",
       "<table border=\"1\" class=\"dataframe\">\n",
       "  <thead>\n",
       "    <tr style=\"text-align: right;\">\n",
       "      <th></th>\n",
       "      <th>Column1</th>\n",
       "      <th>Series-Id</th>\n",
       "      <th>Year</th>\n",
       "      <th>The Value</th>\n",
       "      <th>period</th>\n",
       "      <th>METRIC</th>\n",
       "      <th>URL</th>\n",
       "    </tr>\n",
       "  </thead>\n",
       "  <tbody>\n",
       "    <tr>\n",
       "      <th>0</th>\n",
       "      <td>1</td>\n",
       "      <td>1999</td>\n",
       "      <td>SUUR0000SAE1</td>\n",
       "      <td>\"100.0\"</td>\n",
       "      <td>M12</td>\n",
       "      <td>Chained CPI - Education</td>\n",
       "      <td>https://data.bls.gov/cgi-bin/surveymost?su</td>\n",
       "    </tr>\n",
       "    <tr>\n",
       "      <th>1</th>\n",
       "      <td>2</td>\n",
       "      <td>2000</td>\n",
       "      <td>SUUR0000SAE1</td>\n",
       "      <td>\"100.6\"</td>\n",
       "      <td>M01</td>\n",
       "      <td>Chained CPI - Education</td>\n",
       "      <td>https://data.bls.gov/cgi-bin/surveymost?su</td>\n",
       "    </tr>\n",
       "    <tr>\n",
       "      <th>2</th>\n",
       "      <td>3</td>\n",
       "      <td>2000</td>\n",
       "      <td>SUUR0000SAE1</td>\n",
       "      <td>\"100.9\"</td>\n",
       "      <td>M02</td>\n",
       "      <td>Chained CPI - Education</td>\n",
       "      <td>https://data.bls.gov/cgi-bin/surveymost?su</td>\n",
       "    </tr>\n",
       "    <tr>\n",
       "      <th>3</th>\n",
       "      <td>4</td>\n",
       "      <td>2000</td>\n",
       "      <td>SUUR0000SAE1</td>\n",
       "      <td>\"101.0\"</td>\n",
       "      <td>M03</td>\n",
       "      <td>Chained CPI - Education</td>\n",
       "      <td>https://data.bls.gov/cgi-bin/surveymost?su</td>\n",
       "    </tr>\n",
       "    <tr>\n",
       "      <th>4</th>\n",
       "      <td>5</td>\n",
       "      <td>2000</td>\n",
       "      <td>SUUR0000SAE1</td>\n",
       "      <td>\"101.1\"</td>\n",
       "      <td>M04</td>\n",
       "      <td>Chained CPI - Education</td>\n",
       "      <td>https://data.bls.gov/cgi-bin/surveymost?su</td>\n",
       "    </tr>\n",
       "  </tbody>\n",
       "</table>\n",
       "</div>"
      ],
      "text/plain": [
       "   Column1  Series-Id          Year The Value    period  \\\n",
       "0        1       1999  SUUR0000SAE1   \"100.0\"    M12      \n",
       "1        2       2000  SUUR0000SAE1   \"100.6\"    M01      \n",
       "2        3       2000  SUUR0000SAE1   \"100.9\"    M02      \n",
       "3        4       2000  SUUR0000SAE1   \"101.0\"    M03      \n",
       "4        5       2000  SUUR0000SAE1   \"101.1\"    M04      \n",
       "\n",
       "                    METRIC                                           URL  \n",
       "0  Chained CPI - Education    https://data.bls.gov/cgi-bin/surveymost?su  \n",
       "1  Chained CPI - Education    https://data.bls.gov/cgi-bin/surveymost?su  \n",
       "2  Chained CPI - Education    https://data.bls.gov/cgi-bin/surveymost?su  \n",
       "3  Chained CPI - Education    https://data.bls.gov/cgi-bin/surveymost?su  \n",
       "4  Chained CPI - Education    https://data.bls.gov/cgi-bin/surveymost?su  "
      ]
     },
     "execution_count": 2,
     "metadata": {},
     "output_type": "execute_result"
    }
   ],
   "source": [
    "df = pd.read_excel('Lab 2.1 Data.xlsx')\n",
    "df.head()"
   ]
  },
  {
   "cell_type": "markdown",
   "id": "4f7a00c2-535c-44fe-a0dc-bd382450ad18",
   "metadata": {},
   "source": [
    "## 3. Clean up columns \n",
    "\n",
    "* Rename the __Series-Id__ column to __Year__\n",
    "* Rename the __Year__ column to __SeriesId__\n",
    "* Rename the __The Value__ column to __Value__\n",
    "* Rename the __METRIC__ column to __Metric__\n",
    "* Remove the columns: __Column1__, __SeriesId__, and __URL__"
   ]
  },
  {
   "cell_type": "code",
   "execution_count": 3,
   "id": "1a4475f8-62be-459f-a521-6adbc611e509",
   "metadata": {},
   "outputs": [
    {
     "data": {
      "text/html": [
       "<div>\n",
       "<style scoped>\n",
       "    .dataframe tbody tr th:only-of-type {\n",
       "        vertical-align: middle;\n",
       "    }\n",
       "\n",
       "    .dataframe tbody tr th {\n",
       "        vertical-align: top;\n",
       "    }\n",
       "\n",
       "    .dataframe thead th {\n",
       "        text-align: right;\n",
       "    }\n",
       "</style>\n",
       "<table border=\"1\" class=\"dataframe\">\n",
       "  <thead>\n",
       "    <tr style=\"text-align: right;\">\n",
       "      <th></th>\n",
       "      <th>Year</th>\n",
       "      <th>Value</th>\n",
       "      <th>Period</th>\n",
       "      <th>Metric</th>\n",
       "    </tr>\n",
       "  </thead>\n",
       "  <tbody>\n",
       "    <tr>\n",
       "      <th>0</th>\n",
       "      <td>1999</td>\n",
       "      <td>\"100.0\"</td>\n",
       "      <td>M12</td>\n",
       "      <td>Chained CPI - Education</td>\n",
       "    </tr>\n",
       "    <tr>\n",
       "      <th>1</th>\n",
       "      <td>2000</td>\n",
       "      <td>\"100.6\"</td>\n",
       "      <td>M01</td>\n",
       "      <td>Chained CPI - Education</td>\n",
       "    </tr>\n",
       "    <tr>\n",
       "      <th>2</th>\n",
       "      <td>2000</td>\n",
       "      <td>\"100.9\"</td>\n",
       "      <td>M02</td>\n",
       "      <td>Chained CPI - Education</td>\n",
       "    </tr>\n",
       "    <tr>\n",
       "      <th>3</th>\n",
       "      <td>2000</td>\n",
       "      <td>\"101.0\"</td>\n",
       "      <td>M03</td>\n",
       "      <td>Chained CPI - Education</td>\n",
       "    </tr>\n",
       "    <tr>\n",
       "      <th>4</th>\n",
       "      <td>2000</td>\n",
       "      <td>\"101.1\"</td>\n",
       "      <td>M04</td>\n",
       "      <td>Chained CPI - Education</td>\n",
       "    </tr>\n",
       "  </tbody>\n",
       "</table>\n",
       "</div>"
      ],
      "text/plain": [
       "   Year    Value    Period                   Metric\n",
       "0  1999  \"100.0\"    M12     Chained CPI - Education\n",
       "1  2000  \"100.6\"    M01     Chained CPI - Education\n",
       "2  2000  \"100.9\"    M02     Chained CPI - Education\n",
       "3  2000  \"101.0\"    M03     Chained CPI - Education\n",
       "4  2000  \"101.1\"    M04     Chained CPI - Education"
      ]
     },
     "execution_count": 3,
     "metadata": {},
     "output_type": "execute_result"
    }
   ],
   "source": [
    "df = (df\n",
    "      .loc[:,'Series-Id':'METRIC']\n",
    "     .rename(columns={'Series-Id': 'Year',\n",
    "                      'Year': 'SeriesId',\n",
    "                      'period': 'Period',\n",
    "                     'METRIC': 'Metric',\n",
    "                     'The Value': 'Value'})\n",
    "      .drop(columns='SeriesId')\n",
    "     )\n",
    "df.head()\n"
   ]
  },
  {
   "cell_type": "markdown",
   "id": "a246e373-00aa-4e8a-912f-6acf5799f129",
   "metadata": {},
   "source": [
    "## 4. Convert the Value column to a numeric data type"
   ]
  },
  {
   "cell_type": "code",
   "execution_count": 4,
   "id": "9132a90c-03a8-4217-9d18-c87cf5780294",
   "metadata": {},
   "outputs": [
    {
     "data": {
      "text/html": [
       "<div>\n",
       "<style scoped>\n",
       "    .dataframe tbody tr th:only-of-type {\n",
       "        vertical-align: middle;\n",
       "    }\n",
       "\n",
       "    .dataframe tbody tr th {\n",
       "        vertical-align: top;\n",
       "    }\n",
       "\n",
       "    .dataframe thead th {\n",
       "        text-align: right;\n",
       "    }\n",
       "</style>\n",
       "<table border=\"1\" class=\"dataframe\">\n",
       "  <thead>\n",
       "    <tr style=\"text-align: right;\">\n",
       "      <th></th>\n",
       "      <th>Year</th>\n",
       "      <th>Value</th>\n",
       "      <th>Period</th>\n",
       "      <th>Metric</th>\n",
       "    </tr>\n",
       "  </thead>\n",
       "  <tbody>\n",
       "    <tr>\n",
       "      <th>0</th>\n",
       "      <td>1999</td>\n",
       "      <td>100.0</td>\n",
       "      <td>M12</td>\n",
       "      <td>Chained CPI - Education</td>\n",
       "    </tr>\n",
       "    <tr>\n",
       "      <th>1</th>\n",
       "      <td>2000</td>\n",
       "      <td>100.6</td>\n",
       "      <td>M01</td>\n",
       "      <td>Chained CPI - Education</td>\n",
       "    </tr>\n",
       "    <tr>\n",
       "      <th>2</th>\n",
       "      <td>2000</td>\n",
       "      <td>100.9</td>\n",
       "      <td>M02</td>\n",
       "      <td>Chained CPI - Education</td>\n",
       "    </tr>\n",
       "    <tr>\n",
       "      <th>3</th>\n",
       "      <td>2000</td>\n",
       "      <td>101.0</td>\n",
       "      <td>M03</td>\n",
       "      <td>Chained CPI - Education</td>\n",
       "    </tr>\n",
       "    <tr>\n",
       "      <th>4</th>\n",
       "      <td>2000</td>\n",
       "      <td>101.1</td>\n",
       "      <td>M04</td>\n",
       "      <td>Chained CPI - Education</td>\n",
       "    </tr>\n",
       "  </tbody>\n",
       "</table>\n",
       "</div>"
      ],
      "text/plain": [
       "   Year  Value    Period                   Metric\n",
       "0  1999  100.0    M12     Chained CPI - Education\n",
       "1  2000  100.6    M01     Chained CPI - Education\n",
       "2  2000  100.9    M02     Chained CPI - Education\n",
       "3  2000  101.0    M03     Chained CPI - Education\n",
       "4  2000  101.1    M04     Chained CPI - Education"
      ]
     },
     "execution_count": 4,
     "metadata": {},
     "output_type": "execute_result"
    }
   ],
   "source": [
    "df.Value = pd.to_numeric(df.Value.str.strip('\"'))\n",
    "df.head()"
   ]
  },
  {
   "cell_type": "markdown",
   "id": "291b314c-cd14-4ece-98ae-016c1beb2cfd",
   "metadata": {},
   "source": [
    "## 5. Remove duplicate rows"
   ]
  },
  {
   "cell_type": "code",
   "execution_count": 5,
   "id": "2be7ae3d-32f5-4c00-b882-845662c2cbe8",
   "metadata": {},
   "outputs": [],
   "source": [
    "df = df.drop_duplicates()"
   ]
  },
  {
   "cell_type": "markdown",
   "id": "4cddad4d-6816-4f41-9d15-10a2254afd6e",
   "metadata": {},
   "source": [
    "## 6. Create a new column, Month\n",
    "\n",
    "The new __Month__ column should represnt the values on the first day of the corresponding month."
   ]
  },
  {
   "cell_type": "code",
   "execution_count": 6,
   "id": "11eeacc3-0ab7-4ffe-8b8e-2cc5888b54f9",
   "metadata": {},
   "outputs": [
    {
     "data": {
      "text/html": [
       "<div>\n",
       "<style scoped>\n",
       "    .dataframe tbody tr th:only-of-type {\n",
       "        vertical-align: middle;\n",
       "    }\n",
       "\n",
       "    .dataframe tbody tr th {\n",
       "        vertical-align: top;\n",
       "    }\n",
       "\n",
       "    .dataframe thead th {\n",
       "        text-align: right;\n",
       "    }\n",
       "</style>\n",
       "<table border=\"1\" class=\"dataframe\">\n",
       "  <thead>\n",
       "    <tr style=\"text-align: right;\">\n",
       "      <th></th>\n",
       "      <th>Year</th>\n",
       "      <th>Value</th>\n",
       "      <th>Period</th>\n",
       "      <th>Metric</th>\n",
       "      <th>Month</th>\n",
       "    </tr>\n",
       "  </thead>\n",
       "  <tbody>\n",
       "    <tr>\n",
       "      <th>0</th>\n",
       "      <td>1999</td>\n",
       "      <td>100.0</td>\n",
       "      <td>M12</td>\n",
       "      <td>Chained CPI - Education</td>\n",
       "      <td>1999-12-01</td>\n",
       "    </tr>\n",
       "    <tr>\n",
       "      <th>1</th>\n",
       "      <td>2000</td>\n",
       "      <td>100.6</td>\n",
       "      <td>M01</td>\n",
       "      <td>Chained CPI - Education</td>\n",
       "      <td>2000-01-01</td>\n",
       "    </tr>\n",
       "    <tr>\n",
       "      <th>2</th>\n",
       "      <td>2000</td>\n",
       "      <td>100.9</td>\n",
       "      <td>M02</td>\n",
       "      <td>Chained CPI - Education</td>\n",
       "      <td>2000-02-01</td>\n",
       "    </tr>\n",
       "    <tr>\n",
       "      <th>3</th>\n",
       "      <td>2000</td>\n",
       "      <td>101.0</td>\n",
       "      <td>M03</td>\n",
       "      <td>Chained CPI - Education</td>\n",
       "      <td>2000-03-01</td>\n",
       "    </tr>\n",
       "    <tr>\n",
       "      <th>4</th>\n",
       "      <td>2000</td>\n",
       "      <td>101.1</td>\n",
       "      <td>M04</td>\n",
       "      <td>Chained CPI - Education</td>\n",
       "      <td>2000-04-01</td>\n",
       "    </tr>\n",
       "  </tbody>\n",
       "</table>\n",
       "</div>"
      ],
      "text/plain": [
       "   Year  Value    Period                   Metric      Month\n",
       "0  1999  100.0    M12     Chained CPI - Education 1999-12-01\n",
       "1  2000  100.6    M01     Chained CPI - Education 2000-01-01\n",
       "2  2000  100.9    M02     Chained CPI - Education 2000-02-01\n",
       "3  2000  101.0    M03     Chained CPI - Education 2000-03-01\n",
       "4  2000  101.1    M04     Chained CPI - Education 2000-04-01"
      ]
     },
     "execution_count": 6,
     "metadata": {},
     "output_type": "execute_result"
    }
   ],
   "source": [
    "df['Month'] = df.Year.astype(str) + df.Period.str.replace('M', '-') + '-01'\n",
    "df.Month = pd.to_datetime(df.Month)\n",
    "df.head()"
   ]
  },
  {
   "cell_type": "markdown",
   "id": "67de52be-6d79-4937-a690-95dd220b8a15",
   "metadata": {},
   "source": [
    "## 7. Keep only Month, Metric, and Value"
   ]
  },
  {
   "cell_type": "code",
   "execution_count": 7,
   "id": "ed1248c4-09e8-4455-9e39-a102864fa0bb",
   "metadata": {},
   "outputs": [
    {
     "data": {
      "text/html": [
       "<div>\n",
       "<style scoped>\n",
       "    .dataframe tbody tr th:only-of-type {\n",
       "        vertical-align: middle;\n",
       "    }\n",
       "\n",
       "    .dataframe tbody tr th {\n",
       "        vertical-align: top;\n",
       "    }\n",
       "\n",
       "    .dataframe thead th {\n",
       "        text-align: right;\n",
       "    }\n",
       "</style>\n",
       "<table border=\"1\" class=\"dataframe\">\n",
       "  <thead>\n",
       "    <tr style=\"text-align: right;\">\n",
       "      <th></th>\n",
       "      <th>Month</th>\n",
       "      <th>Metric</th>\n",
       "      <th>Value</th>\n",
       "    </tr>\n",
       "  </thead>\n",
       "  <tbody>\n",
       "    <tr>\n",
       "      <th>0</th>\n",
       "      <td>1999-12-01</td>\n",
       "      <td>Chained CPI - Education</td>\n",
       "      <td>100.0</td>\n",
       "    </tr>\n",
       "    <tr>\n",
       "      <th>1</th>\n",
       "      <td>2000-01-01</td>\n",
       "      <td>Chained CPI - Education</td>\n",
       "      <td>100.6</td>\n",
       "    </tr>\n",
       "    <tr>\n",
       "      <th>2</th>\n",
       "      <td>2000-02-01</td>\n",
       "      <td>Chained CPI - Education</td>\n",
       "      <td>100.9</td>\n",
       "    </tr>\n",
       "    <tr>\n",
       "      <th>3</th>\n",
       "      <td>2000-03-01</td>\n",
       "      <td>Chained CPI - Education</td>\n",
       "      <td>101.0</td>\n",
       "    </tr>\n",
       "    <tr>\n",
       "      <th>4</th>\n",
       "      <td>2000-04-01</td>\n",
       "      <td>Chained CPI - Education</td>\n",
       "      <td>101.1</td>\n",
       "    </tr>\n",
       "  </tbody>\n",
       "</table>\n",
       "</div>"
      ],
      "text/plain": [
       "       Month                   Metric  Value\n",
       "0 1999-12-01  Chained CPI - Education  100.0\n",
       "1 2000-01-01  Chained CPI - Education  100.6\n",
       "2 2000-02-01  Chained CPI - Education  100.9\n",
       "3 2000-03-01  Chained CPI - Education  101.0\n",
       "4 2000-04-01  Chained CPI - Education  101.1"
      ]
     },
     "execution_count": 7,
     "metadata": {},
     "output_type": "execute_result"
    }
   ],
   "source": [
    "df = df[['Month', 'Metric', 'Value']]\n",
    "df.head()"
   ]
  },
  {
   "cell_type": "markdown",
   "id": "1a767e49-d48b-408f-99d0-7d24ab973109",
   "metadata": {},
   "source": [
    "## 8. Pivot the data to a wide format  \n",
    "\n",
    "Specificlaly, create a column for each of the values in the __Metric__ column, and fill in the cells with the values from the __Value__ column."
   ]
  },
  {
   "cell_type": "code",
   "execution_count": 9,
   "id": "7e42e6c5-27e5-4c77-a684-46d45db12ba6",
   "metadata": {},
   "outputs": [
    {
     "data": {
      "text/html": [
       "<div>\n",
       "<style scoped>\n",
       "    .dataframe tbody tr th:only-of-type {\n",
       "        vertical-align: middle;\n",
       "    }\n",
       "\n",
       "    .dataframe tbody tr th {\n",
       "        vertical-align: top;\n",
       "    }\n",
       "\n",
       "    .dataframe thead th {\n",
       "        text-align: right;\n",
       "    }\n",
       "</style>\n",
       "<table border=\"1\" class=\"dataframe\">\n",
       "  <thead>\n",
       "    <tr style=\"text-align: right;\">\n",
       "      <th>Metric</th>\n",
       "      <th>Chained CPI - Education</th>\n",
       "      <th>Chained CPI - Food at home</th>\n",
       "      <th>Chained CPI - Medical Care</th>\n",
       "      <th>Chained CPI - New Vehicles</th>\n",
       "    </tr>\n",
       "    <tr>\n",
       "      <th>Month</th>\n",
       "      <th></th>\n",
       "      <th></th>\n",
       "      <th></th>\n",
       "      <th></th>\n",
       "    </tr>\n",
       "  </thead>\n",
       "  <tbody>\n",
       "    <tr>\n",
       "      <th>1999-12-01</th>\n",
       "      <td>100.0</td>\n",
       "      <td>100.0</td>\n",
       "      <td>100.0</td>\n",
       "      <td>100.0</td>\n",
       "    </tr>\n",
       "    <tr>\n",
       "      <th>2000-01-01</th>\n",
       "      <td>100.6</td>\n",
       "      <td>100.6</td>\n",
       "      <td>100.5</td>\n",
       "      <td>99.8</td>\n",
       "    </tr>\n",
       "    <tr>\n",
       "      <th>2000-02-01</th>\n",
       "      <td>100.9</td>\n",
       "      <td>100.6</td>\n",
       "      <td>101.1</td>\n",
       "      <td>99.7</td>\n",
       "    </tr>\n",
       "    <tr>\n",
       "      <th>2000-03-01</th>\n",
       "      <td>101.0</td>\n",
       "      <td>100.7</td>\n",
       "      <td>101.5</td>\n",
       "      <td>99.9</td>\n",
       "    </tr>\n",
       "    <tr>\n",
       "      <th>2000-04-01</th>\n",
       "      <td>101.1</td>\n",
       "      <td>100.8</td>\n",
       "      <td>101.7</td>\n",
       "      <td>100.0</td>\n",
       "    </tr>\n",
       "  </tbody>\n",
       "</table>\n",
       "</div>"
      ],
      "text/plain": [
       "Metric      Chained CPI - Education  Chained CPI - Food at home  \\\n",
       "Month                                                             \n",
       "1999-12-01                    100.0                       100.0   \n",
       "2000-01-01                    100.6                       100.6   \n",
       "2000-02-01                    100.9                       100.6   \n",
       "2000-03-01                    101.0                       100.7   \n",
       "2000-04-01                    101.1                       100.8   \n",
       "\n",
       "Metric      Chained CPI - Medical Care  Chained CPI - New Vehicles  \n",
       "Month                                                               \n",
       "1999-12-01                       100.0                       100.0  \n",
       "2000-01-01                       100.5                        99.8  \n",
       "2000-02-01                       101.1                        99.7  \n",
       "2000-03-01                       101.5                        99.9  \n",
       "2000-04-01                       101.7                       100.0  "
      ]
     },
     "execution_count": 9,
     "metadata": {},
     "output_type": "execute_result"
    }
   ],
   "source": [
    "dfw = df.pivot(index='Month', columns='Metric', values='Value')\n",
    "dfw.head()"
   ]
  },
  {
   "cell_type": "markdown",
   "id": "ad1a8bfc-d0b3-448c-b272-3d957cce0c0f",
   "metadata": {},
   "source": [
    "## 9. Create a multiline plot"
   ]
  },
  {
   "cell_type": "code",
   "execution_count": 11,
   "id": "e4192f29-0b1b-4e36-930d-9a7cc69c015a",
   "metadata": {},
   "outputs": [
    {
     "data": {
      "image/png": "[encoded data removed]",
      "text/plain": [
       "<Figure size 640x480 with 1 Axes>"
      ]
     },
     "metadata": {},
     "output_type": "display_data"
    }
   ],
   "source": [
    "dfw.plot.line(title = 'Inflation for Four Products');"
   ]
  }
 ],
 "metadata": {
  "kernelspec": {
   "display_name": "Python 3 (ipykernel)",
   "language": "python",
   "name": "python3"
  },
  "language_info": {
   "codemirror_mode": {
    "name": "ipython",
    "version": 3
   },
   "file_extension": ".py",
   "mimetype": "text/x-python",
   "name": "python",
   "nbconvert_exporter": "python",
   "pygments_lexer": "ipython3",
   "version": "3.12.0"
  }
 },
 "nbformat": 4,
 "nbformat_minor": 5
}
